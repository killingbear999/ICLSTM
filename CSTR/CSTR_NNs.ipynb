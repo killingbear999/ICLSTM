{
  "cells": [
    {
      "cell_type": "code",
      "execution_count": null,
      "metadata": {
        "id": "cc986002"
      },
      "outputs": [],
      "source": [
        "import numpy as np\n",
        "import matplotlib.pyplot as plt\n",
        "%matplotlib inline\n",
        "from sklearn import preprocessing\n",
        "from sklearn.model_selection import train_test_split\n",
        "from sklearn.metrics import mean_absolute_percentage_error\n",
        "from keras.models import Sequential\n",
        "from keras.layers import Dense, SimpleRNN, Input, Activation, Dropout, Add, LSTM, GRU, RNN, LayerNormalization, BatchNormalization, Conv1D, MaxPooling1D, Flatten\n",
        "from keras import backend as K\n",
        "from keras.optimizers import Adam,SGD\n",
        "import tensorflow as tf\n",
        "from keras import Model, regularizers, activations, initializers\n",
        "import pickle"
      ],
      "id": "cc986002"
    },
    {
      "cell_type": "code",
      "execution_count": null,
      "metadata": {
        "id": "6a09c682"
      },
      "outputs": [],
      "source": [
        "# specifying constant parameters\n",
        "\n",
        "T_0 = 300\n",
        "V = 1\n",
        "k_0 = 8.46*(np.power(10,6))\n",
        "C_p = 0.231\n",
        "rho_L = 1000\n",
        "Q_s = 0.0\n",
        "T_s = 401.8727\n",
        "F = 5\n",
        "E = 5*(np.power(10,4))\n",
        "delta_H = -1.15*(np.power(10,4))\n",
        "R = 8.314\n",
        "C_A0s = 4\n",
        "C_As = 1.9537\n",
        "t_final = 0.005\n",
        "t_step = 1e-4\n",
        "P = np.array([[1060, 22], [22, 0.52]])\n",
        "\n",
        "num_step = 10"
      ],
      "id": "6a09c682"
    },
    {
      "cell_type": "code",
      "execution_count": null,
      "metadata": {
        "id": "da2f7b55"
      },
      "outputs": [],
      "source": [
        "# generating inputs and initial states for CSTR, all expressed in deviation form\n",
        "\n",
        "u1_list = np.linspace(-3.5, 3.5, 4, endpoint=True)\n",
        "u2_list = np.linspace(-5e5, 5e5, 4, endpoint=True)\n",
        "T_initial = np.linspace(300, 600, 100, endpoint=True) - T_s\n",
        "CA_initial = np.linspace(0, 6, 100, endpoint=True) - C_As"
      ],
      "id": "da2f7b55"
    },
    {
      "cell_type": "code",
      "execution_count": null,
      "metadata": {
        "colab": {
          "base_uri": "https://localhost:8080/"
        },
        "id": "e2e9e386",
        "outputId": "d2a06d95-a0d4-48ee-88fb-bf5da54ffc10"
      },
      "outputs": [
        {
          "output_type": "stream",
          "name": "stdout",
          "text": [
            "number of initial conditions: 772\n",
            "shape of x_deviation is (772, 2)\n"
          ]
        }
      ],
      "source": [
        "# sieve out initial states that lie outside of stability region\n",
        "\n",
        "T_start = list()\n",
        "CA_start = list()\n",
        "\n",
        "for T in T_initial:\n",
        "    for CA in CA_initial:\n",
        "        x = np.array([CA, T])\n",
        "        if x @ P @ x < 372:\n",
        "            CA_start.append(CA)\n",
        "            T_start.append(T)\n",
        "print(\"number of initial conditions: {}\".format(len(CA_start)))\n",
        "\n",
        "# convert to np.arrays\n",
        "CA_start = np.array([CA_start])\n",
        "T_start = np.array([T_start])\n",
        "x_deviation = np.concatenate((CA_start.T, T_start.T), axis=1)  # every row is a pair of initial states within stability region\n",
        "print(\"shape of x_deviation is {}\".format(x_deviation.shape))"
      ],
      "id": "e2e9e386"
    },
    {
      "cell_type": "code",
      "execution_count": null,
      "metadata": {
        "id": "eadad8ed"
      },
      "outputs": [],
      "source": [
        "def CSTR_simulation(F, V, C_A0, k_0, E, R, T_0, delta_H, rho_L, C_p, Q, t_final, t_step, C_A_initial, T_initial):\n",
        "    \"\"\"\n",
        "        simulating CSTR using forward Euler method\n",
        "    \"\"\"\n",
        "\n",
        "    C_A_list = list()  # evolution of CA over time\n",
        "    T_list = list()  # evolution of T over time\n",
        "\n",
        "    C_A = C_A_initial + C_As\n",
        "    T = T_initial + T_s\n",
        "\n",
        "    for i in range(int(t_final / t_step)):\n",
        "        dCAdt = F / V * (C_A0 - C_A) - k_0 * np.exp(-E / (R * T)) * C_A**2\n",
        "        dTdt = F / V * (T_0 - T) - delta_H / (rho_L * C_p) * k_0 * np.exp(-E / (R * T)) * C_A**2 + Q / (rho_L * C_p * V)\n",
        "\n",
        "        T += dTdt * t_step\n",
        "        C_A += dCAdt * t_step\n",
        "\n",
        "        if i % 5 == 0:\n",
        "          C_A_list.append(C_A - C_As)  # in deviation form\n",
        "          T_list.append(T - T_s)  # in deviation form\n",
        "\n",
        "    return C_A_list, T_list"
      ],
      "id": "eadad8ed"
    },
    {
      "cell_type": "code",
      "execution_count": null,
      "metadata": {
        "id": "59882525"
      },
      "outputs": [],
      "source": [
        "# get X and y data for training and testing\n",
        "\n",
        "CA_output = list()\n",
        "T_output = list()\n",
        "CA_input = list()\n",
        "T_input = list()\n",
        "CA0_input = list()\n",
        "Q_input = list()\n",
        "\n",
        "for u1 in u1_list:\n",
        "    C_A0 = u1 + C_A0s\n",
        "\n",
        "    for u2 in u2_list:\n",
        "        Q = u2 + Q_s\n",
        "\n",
        "        for C_A_initial, T_initial in x_deviation:\n",
        "            CA0_input.append(u1)\n",
        "            Q_input.append(u2)\n",
        "            CA_input.append(C_A_initial)\n",
        "            T_input.append(T_initial)\n",
        "\n",
        "            C_A_list, T_list = CSTR_simulation(F, V, C_A0, k_0, E, R, T_0, delta_H, rho_L, C_p, Q, t_final, t_step, C_A_initial, T_initial)\n",
        "            CA_output.append(C_A_list)\n",
        "            T_output.append(T_list)"
      ],
      "id": "59882525"
    },
    {
      "cell_type": "code",
      "execution_count": null,
      "metadata": {
        "colab": {
          "base_uri": "https://localhost:8080/"
        },
        "id": "8X_9tOfuxL0o",
        "outputId": "0c2a9f79-15c0-4d10-cc50-cdce574fdce6"
      },
      "outputs": [
        {
          "output_type": "stream",
          "name": "stdout",
          "text": [
            "(12352,)\n",
            "(12352, 10)\n"
          ]
        }
      ],
      "source": [
        "CA0_input = np.array(CA0_input)\n",
        "print(CA0_input.shape)\n",
        "CA_output = np.array(CA_output)\n",
        "print(CA_output.shape)"
      ],
      "id": "8X_9tOfuxL0o"
    },
    {
      "cell_type": "code",
      "execution_count": null,
      "metadata": {
        "colab": {
          "base_uri": "https://localhost:8080/"
        },
        "id": "2fc6ede5",
        "outputId": "19e2cf0d-c00a-45d1-b4c7-658fb680b3fa"
      },
      "outputs": [
        {
          "output_type": "stream",
          "name": "stdout",
          "text": [
            "RNN_input shape is (12352, 10, 8)\n"
          ]
        }
      ],
      "source": [
        "# collate input for RNN\n",
        "\n",
        "CA0_input = np.array(CA0_input)\n",
        "CA0_input = CA0_input.reshape(-1,1,1)\n",
        "\n",
        "Q_input = np.array(Q_input)\n",
        "Q_input = Q_input.reshape(-1,1,1)\n",
        "\n",
        "CA_input = np.array(CA_input)\n",
        "CA_input = CA_input.reshape(-1,1,1)\n",
        "\n",
        "T_input = np.array(T_input)\n",
        "T_input = T_input.reshape(-1,1,1)\n",
        "\n",
        "CA0_input_neg = -np.array(CA0_input)\n",
        "CA0_input_neg = CA0_input_neg.reshape(-1,1,1)\n",
        "\n",
        "Q_input_neg = -np.array(Q_input)\n",
        "Q_input_neg = Q_input_neg.reshape(-1,1,1)\n",
        "\n",
        "CA_input_neg = -np.array(CA_input)\n",
        "CA_input_neg = CA_input_neg.reshape(-1,1,1)\n",
        "\n",
        "T_input_neg = -np.array(T_input)\n",
        "T_input_neg = T_input_neg.reshape(-1,1,1)\n",
        "\n",
        "# for RNN and LSTM\n",
        "# RNN_input = np.concatenate((T_input, CA_input, Q_input, CA0_input), axis=2)\n",
        "\n",
        "# for ICRNN\n",
        "RNN_input = np.concatenate((T_input, CA_input, Q_input, CA0_input, T_input_neg, CA_input_neg, Q_input_neg, CA0_input_neg), axis=2)\n",
        "\n",
        "\"\"\"\n",
        "    the input to RNN is in the shape [number of samples x timestep x variables], and the input variables are same for every\n",
        "    time step, not sure if my treatment here is correct\n",
        "\"\"\"\n",
        "\n",
        "RNN_input = RNN_input.repeat(num_step, axis=1)\n",
        "print(\"RNN_input shape is {}\".format(RNN_input.shape))"
      ],
      "id": "2fc6ede5"
    },
    {
      "cell_type": "code",
      "execution_count": null,
      "metadata": {
        "colab": {
          "base_uri": "https://localhost:8080/"
        },
        "id": "358446c1",
        "outputId": "6b495e7e-74d3-43d9-e115-ad72e7b4a832"
      },
      "outputs": [
        {
          "output_type": "stream",
          "name": "stdout",
          "text": [
            "[-7.45999727e+01  1.44023939e+00 -5.00000000e+05 -3.50000000e+00\n",
            "  7.45999727e+01 -1.44023939e+00  5.00000000e+05  3.50000000e+00]\n",
            "[-7.45999727e+01  1.44023939e+00 -5.00000000e+05 -3.50000000e+00\n",
            "  7.45999727e+01 -1.44023939e+00  5.00000000e+05  3.50000000e+00]\n"
          ]
        }
      ],
      "source": [
        "# checking the input is duplicated 100 times for each time step\n",
        "print(RNN_input[0, 0])\n",
        "print(RNN_input[0, 1])"
      ],
      "id": "358446c1"
    },
    {
      "cell_type": "code",
      "execution_count": null,
      "metadata": {
        "colab": {
          "base_uri": "https://localhost:8080/"
        },
        "id": "fd86ba27",
        "outputId": "a90fe355-05b7-46c1-e3ee-b2a50212bc1a"
      },
      "outputs": [
        {
          "output_type": "stream",
          "name": "stdout",
          "text": [
            "RNN_output shape is (12352, 10, 2)\n"
          ]
        }
      ],
      "source": [
        "# collate output for RNN\n",
        "\n",
        "CA_output = np.array(CA_output)\n",
        "CA_output = CA_output.reshape(-1, num_step, 1)\n",
        "\n",
        "T_output = np.array(T_output)\n",
        "T_output = T_output.reshape(-1, num_step, 1)\n",
        "\n",
        "RNN_output = np.concatenate((T_output, CA_output), axis=2)\n",
        "print(\"RNN_output shape is {}\".format(RNN_output.shape))  # output shape: number of samples x timestep x variables"
      ],
      "id": "fd86ba27"
    },
    {
      "cell_type": "code",
      "execution_count": null,
      "metadata": {
        "colab": {
          "base_uri": "https://localhost:8080/"
        },
        "id": "1cb81232",
        "outputId": "d8a1ae2a-18bf-40cb-c971-771b59efd311"
      },
      "outputs": [
        {
          "output_type": "stream",
          "name": "stdout",
          "text": [
            "[[-74.82498608   1.43869052]\n",
            " [-75.94937347   1.43097798]\n",
            " [-77.07255531   1.4233169 ]\n",
            " [-78.19443649   1.41570516]\n",
            " [-79.31492759   1.4081408 ]]\n"
          ]
        }
      ],
      "source": [
        "# checking output\n",
        "print(RNN_output[0, :5])"
      ],
      "id": "1cb81232"
    },
    {
      "cell_type": "code",
      "execution_count": null,
      "metadata": {
        "id": "ab5ffbad"
      },
      "outputs": [],
      "source": [
        "num_dims = 8\n",
        "\n",
        "# split into train and test sets\n",
        "X_train, X_test, y_train, y_test = train_test_split(RNN_input, RNN_output, test_size=0.3, random_state=123)\n",
        "\n",
        "# define scalers for both X and y base on training data only\n",
        "scaler_X = preprocessing.StandardScaler().fit(X_train.reshape(-1, num_dims))\n",
        "scaler_y = preprocessing.StandardScaler().fit(y_train.reshape(-1, 2))\n",
        "\n",
        "X_train = scaler_X.transform(X_train.reshape(-1, num_dims)).reshape(-1,num_step,num_dims)\n",
        "X_test = scaler_X.transform(X_test.reshape(-1, num_dims)).reshape(-1,num_step,num_dims)\n",
        "y_train = scaler_y.transform(y_train.reshape(-1,2)).reshape(-1,num_step,2)"
      ],
      "id": "ab5ffbad"
    },
    {
      "cell_type": "code",
      "source": [
        "print(\"mean of input T, CA, Q, CA0 = \", scaler_X.mean_)\n",
        "print(\"std of input T, CA, Q, CA0 = \", scaler_X.scale_)\n",
        "print(\"mean of output T, CA = \", scaler_y.mean_)\n",
        "print(\"std of output T, CA = \", scaler_y.scale_)"
      ],
      "metadata": {
        "colab": {
          "base_uri": "https://localhost:8080/"
        },
        "id": "BdVN9TfSlipC",
        "outputId": "d24a1c43-3acc-43f8-9cd1-73494214e874"
      },
      "id": "BdVN9TfSlipC",
      "execution_count": null,
      "outputs": [
        {
          "output_type": "stream",
          "name": "stdout",
          "text": [
            "mean of input T, CA, Q, CA0 =  [-6.16908217e-01  1.67119614e-02  1.92767368e+02  1.16045956e-02\n",
            "  6.16908217e-01 -1.67119614e-02 -1.92767368e+02 -1.16045956e-02]\n",
            "std of input T, CA, Q, CA0 =  [3.85278325e+01 8.49360686e-01 3.73882913e+05 2.61161518e+00\n",
            " 3.85278325e+01 8.49360686e-01 3.73882913e+05 2.61161518e+00]\n",
            "mean of output T, CA =  [-0.75373917  0.01958435]\n",
            "std of output T, CA =  [38.78474393  0.84533936]\n"
          ]
        }
      ]
    },
    {
      "cell_type": "code",
      "source": [
        "tf.random.set_seed(42)\n",
        "\n",
        "class MyRNNCell(tf.keras.layers.Layer):\n",
        "\n",
        "    def __init__(self, units, input_shape_custom, **kwargs):\n",
        "        self.units = units\n",
        "        self.input_shape_custom = input_shape_custom\n",
        "        self.state_size = [tf.TensorShape([units]), tf.TensorShape([input_shape_custom])]\n",
        "        super(MyRNNCell, self).__init__(**kwargs)\n",
        "\n",
        "    def build(self, input_shape):\n",
        "        self.kernel = self.add_weight(shape=(input_shape[-1], self.units),\n",
        "                                      initializer=initializers.RandomNormal(mean=0.0, stddev=0.01),\n",
        "                                      name='kernel',\n",
        "                                      constraint=tf.keras.constraints.NonNeg(),\n",
        "                                      trainable=True)\n",
        "        self.recurrent_kernel = self.add_weight(shape=(self.units, self.units),\n",
        "                                                initializer=initializers.Orthogonal(0.1),\n",
        "                                                name='recurrent_kernel',\n",
        "                                                constraint=tf.keras.constraints.NonNeg(),\n",
        "                                                trainable=True)\n",
        "        self.D1 = self.add_weight(shape=(self.units, self.units),\n",
        "                                 initializer=initializers.Orthogonal(0.1),\n",
        "                                 name='D1',\n",
        "                                 constraint=tf.keras.constraints.NonNeg(),\n",
        "                                 trainable=True)\n",
        "        self.D2 = self.add_weight(shape=(input_shape[-1], self.units),\n",
        "                                 initializer=initializers.RandomNormal(mean=0.0, stddev=0.01),\n",
        "                                 name='D2',\n",
        "                                 constraint=tf.keras.constraints.NonNeg(),\n",
        "                                 trainable=True)\n",
        "        self.D3 = self.add_weight(shape=(input_shape[-1], self.units),\n",
        "                                 initializer=initializers.RandomNormal(mean=0.0, stddev=0.01),\n",
        "                                 name='D3',\n",
        "                                 constraint=tf.keras.constraints.NonNeg(),\n",
        "                                 trainable=True)\n",
        "        self.V = self.add_weight(shape=(self.units, self.units),\n",
        "                                 initializer=initializers.Orthogonal(0.1),\n",
        "                                 name='V',\n",
        "                                 constraint=tf.keras.constraints.NonNeg(),\n",
        "                                 trainable=True)\n",
        "        self.built = True\n",
        "\n",
        "    def call(self, inputs, states):\n",
        "        # ICRNN\n",
        "        prev_h, prev_input = states\n",
        "        h = K.dot(inputs, self.kernel) + K.dot(prev_h, self.recurrent_kernel) + K.dot(prev_input, self.D2)\n",
        "        h = tf.nn.elu(h)\n",
        "        y = K.dot(h, self.V) + K.dot(prev_h, self.D1) + K.dot(inputs, self.D3)\n",
        "        y = tf.nn.elu(y)\n",
        "        return y, [h, inputs]\n",
        "\n",
        "    def get_config(self):\n",
        "        config = super(MyRNNCell, self).get_config()\n",
        "        config.update({\"units\": self.units, \"input_shape_custom\": self.input_shape_custom})\n",
        "        return config\n",
        "\n",
        "# ICRNN\n",
        "model = Sequential()\n",
        "model.add(RNN(MyRNNCell(units=64, input_shape_custom=X_train.shape[2]),return_sequences=True))\n",
        "model.add(RNN(MyRNNCell(units=64, input_shape_custom=64),return_sequences=True))\n",
        "model.add(Dense(2, activation='linear', kernel_constraint=tf.keras.constraints.NonNeg()))\n",
        "\n",
        "# plain RNN\n",
        "# model.add(SimpleRNN(64, activation='tanh', return_sequences=True))\n",
        "# model.add(SimpleRNN(64, activation='tanh', return_sequences=True))\n",
        "# model.add(Dense(2, activation='linear'))\n",
        "\n",
        "# plain LSTM\n",
        "# model.add(LSTM(64, activation='tanh', return_sequences=True))\n",
        "# model.add(LSTM(64, activation='tanh', return_sequences=True))\n",
        "# model.add(Dense(2, activation='linear'))\n",
        "\n",
        "model.compile(optimizer='adam', loss='mean_squared_error', metrics=[tf.keras.metrics.MeanSquaredError()])\n",
        "history = model.fit(X_train, y_train, epochs=200, batch_size=256, validation_split=0.25, verbose=2)\n",
        "model.summary()"
      ],
      "metadata": {
        "colab": {
          "base_uri": "https://localhost:8080/"
        },
        "id": "860Axe6TyZsY",
        "outputId": "369957ad-b8a0-499d-99a3-27c9e30d08f6"
      },
      "id": "860Axe6TyZsY",
      "execution_count": null,
      "outputs": [
        {
          "output_type": "stream",
          "name": "stdout",
          "text": [
            "Epoch 1/200\n",
            "26/26 - 11s - loss: 0.6039 - mean_squared_error: 0.6039 - val_loss: 0.1300 - val_mean_squared_error: 0.1300 - 11s/epoch - 434ms/step\n",
            "Epoch 2/200\n",
            "26/26 - 1s - loss: 0.0814 - mean_squared_error: 0.0814 - val_loss: 0.0456 - val_mean_squared_error: 0.0456 - 803ms/epoch - 31ms/step\n",
            "Epoch 3/200\n",
            "26/26 - 1s - loss: 0.0326 - mean_squared_error: 0.0326 - val_loss: 0.0216 - val_mean_squared_error: 0.0216 - 740ms/epoch - 28ms/step\n",
            "Epoch 4/200\n",
            "26/26 - 1s - loss: 0.0163 - mean_squared_error: 0.0163 - val_loss: 0.0129 - val_mean_squared_error: 0.0129 - 823ms/epoch - 32ms/step\n",
            "Epoch 5/200\n",
            "26/26 - 1s - loss: 0.0107 - mean_squared_error: 0.0107 - val_loss: 0.0094 - val_mean_squared_error: 0.0094 - 792ms/epoch - 30ms/step\n",
            "Epoch 6/200\n",
            "26/26 - 1s - loss: 0.0089 - mean_squared_error: 0.0089 - val_loss: 0.0085 - val_mean_squared_error: 0.0085 - 754ms/epoch - 29ms/step\n",
            "Epoch 7/200\n",
            "26/26 - 1s - loss: 0.0083 - mean_squared_error: 0.0083 - val_loss: 0.0078 - val_mean_squared_error: 0.0078 - 822ms/epoch - 32ms/step\n",
            "Epoch 8/200\n",
            "26/26 - 1s - loss: 0.0076 - mean_squared_error: 0.0076 - val_loss: 0.0077 - val_mean_squared_error: 0.0077 - 752ms/epoch - 29ms/step\n",
            "Epoch 9/200\n",
            "26/26 - 1s - loss: 0.0072 - mean_squared_error: 0.0072 - val_loss: 0.0069 - val_mean_squared_error: 0.0069 - 815ms/epoch - 31ms/step\n",
            "Epoch 10/200\n",
            "26/26 - 1s - loss: 0.0067 - mean_squared_error: 0.0067 - val_loss: 0.0069 - val_mean_squared_error: 0.0069 - 824ms/epoch - 32ms/step\n",
            "Epoch 11/200\n",
            "26/26 - 1s - loss: 0.0064 - mean_squared_error: 0.0064 - val_loss: 0.0062 - val_mean_squared_error: 0.0062 - 1s/epoch - 52ms/step\n",
            "Epoch 12/200\n",
            "26/26 - 1s - loss: 0.0061 - mean_squared_error: 0.0061 - val_loss: 0.0064 - val_mean_squared_error: 0.0064 - 1s/epoch - 57ms/step\n",
            "Epoch 13/200\n",
            "26/26 - 1s - loss: 0.0060 - mean_squared_error: 0.0060 - val_loss: 0.0063 - val_mean_squared_error: 0.0063 - 1s/epoch - 45ms/step\n",
            "Epoch 14/200\n",
            "26/26 - 1s - loss: 0.0060 - mean_squared_error: 0.0060 - val_loss: 0.0055 - val_mean_squared_error: 0.0055 - 807ms/epoch - 31ms/step\n",
            "Epoch 15/200\n",
            "26/26 - 1s - loss: 0.0055 - mean_squared_error: 0.0055 - val_loss: 0.0060 - val_mean_squared_error: 0.0060 - 814ms/epoch - 31ms/step\n",
            "Epoch 16/200\n",
            "26/26 - 1s - loss: 0.0055 - mean_squared_error: 0.0055 - val_loss: 0.0052 - val_mean_squared_error: 0.0052 - 815ms/epoch - 31ms/step\n",
            "Epoch 17/200\n",
            "26/26 - 1s - loss: 0.0051 - mean_squared_error: 0.0051 - val_loss: 0.0049 - val_mean_squared_error: 0.0049 - 759ms/epoch - 29ms/step\n",
            "Epoch 18/200\n",
            "26/26 - 1s - loss: 0.0049 - mean_squared_error: 0.0049 - val_loss: 0.0049 - val_mean_squared_error: 0.0049 - 797ms/epoch - 31ms/step\n",
            "Epoch 19/200\n",
            "26/26 - 1s - loss: 0.0049 - mean_squared_error: 0.0049 - val_loss: 0.0045 - val_mean_squared_error: 0.0045 - 826ms/epoch - 32ms/step\n",
            "Epoch 20/200\n",
            "26/26 - 1s - loss: 0.0045 - mean_squared_error: 0.0045 - val_loss: 0.0045 - val_mean_squared_error: 0.0045 - 826ms/epoch - 32ms/step\n",
            "Epoch 21/200\n",
            "26/26 - 1s - loss: 0.0044 - mean_squared_error: 0.0044 - val_loss: 0.0053 - val_mean_squared_error: 0.0053 - 819ms/epoch - 32ms/step\n",
            "Epoch 22/200\n",
            "26/26 - 1s - loss: 0.0050 - mean_squared_error: 0.0050 - val_loss: 0.0042 - val_mean_squared_error: 0.0042 - 773ms/epoch - 30ms/step\n",
            "Epoch 23/200\n",
            "26/26 - 1s - loss: 0.0042 - mean_squared_error: 0.0042 - val_loss: 0.0041 - val_mean_squared_error: 0.0041 - 806ms/epoch - 31ms/step\n",
            "Epoch 24/200\n",
            "26/26 - 1s - loss: 0.0040 - mean_squared_error: 0.0040 - val_loss: 0.0041 - val_mean_squared_error: 0.0041 - 783ms/epoch - 30ms/step\n",
            "Epoch 25/200\n",
            "26/26 - 1s - loss: 0.0039 - mean_squared_error: 0.0039 - val_loss: 0.0036 - val_mean_squared_error: 0.0036 - 777ms/epoch - 30ms/step\n",
            "Epoch 26/200\n",
            "26/26 - 1s - loss: 0.0037 - mean_squared_error: 0.0037 - val_loss: 0.0035 - val_mean_squared_error: 0.0035 - 1s/epoch - 50ms/step\n",
            "Epoch 27/200\n",
            "26/26 - 1s - loss: 0.0039 - mean_squared_error: 0.0039 - val_loss: 0.0034 - val_mean_squared_error: 0.0034 - 1s/epoch - 51ms/step\n",
            "Epoch 28/200\n",
            "26/26 - 2s - loss: 0.0036 - mean_squared_error: 0.0036 - val_loss: 0.0034 - val_mean_squared_error: 0.0034 - 2s/epoch - 60ms/step\n",
            "Epoch 29/200\n",
            "26/26 - 1s - loss: 0.0035 - mean_squared_error: 0.0035 - val_loss: 0.0038 - val_mean_squared_error: 0.0038 - 811ms/epoch - 31ms/step\n",
            "Epoch 30/200\n",
            "26/26 - 1s - loss: 0.0034 - mean_squared_error: 0.0034 - val_loss: 0.0037 - val_mean_squared_error: 0.0037 - 1s/epoch - 57ms/step\n",
            "Epoch 31/200\n",
            "26/26 - 1s - loss: 0.0035 - mean_squared_error: 0.0035 - val_loss: 0.0037 - val_mean_squared_error: 0.0037 - 1s/epoch - 56ms/step\n",
            "Epoch 32/200\n",
            "26/26 - 1s - loss: 0.0033 - mean_squared_error: 0.0033 - val_loss: 0.0032 - val_mean_squared_error: 0.0032 - 1s/epoch - 56ms/step\n",
            "Epoch 33/200\n",
            "26/26 - 2s - loss: 0.0031 - mean_squared_error: 0.0031 - val_loss: 0.0030 - val_mean_squared_error: 0.0030 - 2s/epoch - 74ms/step\n",
            "Epoch 34/200\n",
            "26/26 - 2s - loss: 0.0031 - mean_squared_error: 0.0031 - val_loss: 0.0035 - val_mean_squared_error: 0.0035 - 2s/epoch - 74ms/step\n",
            "Epoch 35/200\n",
            "26/26 - 2s - loss: 0.0031 - mean_squared_error: 0.0031 - val_loss: 0.0029 - val_mean_squared_error: 0.0029 - 2s/epoch - 89ms/step\n",
            "Epoch 36/200\n",
            "26/26 - 2s - loss: 0.0030 - mean_squared_error: 0.0030 - val_loss: 0.0029 - val_mean_squared_error: 0.0029 - 2s/epoch - 90ms/step\n",
            "Epoch 37/200\n",
            "26/26 - 2s - loss: 0.0029 - mean_squared_error: 0.0029 - val_loss: 0.0032 - val_mean_squared_error: 0.0032 - 2s/epoch - 67ms/step\n",
            "Epoch 38/200\n",
            "26/26 - 2s - loss: 0.0030 - mean_squared_error: 0.0030 - val_loss: 0.0027 - val_mean_squared_error: 0.0027 - 2s/epoch - 63ms/step\n",
            "Epoch 39/200\n",
            "26/26 - 1s - loss: 0.0028 - mean_squared_error: 0.0028 - val_loss: 0.0045 - val_mean_squared_error: 0.0045 - 1s/epoch - 57ms/step\n",
            "Epoch 40/200\n",
            "26/26 - 1s - loss: 0.0030 - mean_squared_error: 0.0030 - val_loss: 0.0028 - val_mean_squared_error: 0.0028 - 1s/epoch - 50ms/step\n",
            "Epoch 41/200\n",
            "26/26 - 1s - loss: 0.0026 - mean_squared_error: 0.0026 - val_loss: 0.0026 - val_mean_squared_error: 0.0026 - 761ms/epoch - 29ms/step\n",
            "Epoch 42/200\n",
            "26/26 - 1s - loss: 0.0026 - mean_squared_error: 0.0026 - val_loss: 0.0025 - val_mean_squared_error: 0.0025 - 813ms/epoch - 31ms/step\n",
            "Epoch 43/200\n",
            "26/26 - 1s - loss: 0.0026 - mean_squared_error: 0.0026 - val_loss: 0.0025 - val_mean_squared_error: 0.0025 - 808ms/epoch - 31ms/step\n",
            "Epoch 44/200\n",
            "26/26 - 1s - loss: 0.0025 - mean_squared_error: 0.0025 - val_loss: 0.0027 - val_mean_squared_error: 0.0027 - 754ms/epoch - 29ms/step\n",
            "Epoch 45/200\n",
            "26/26 - 1s - loss: 0.0026 - mean_squared_error: 0.0026 - val_loss: 0.0024 - val_mean_squared_error: 0.0024 - 759ms/epoch - 29ms/step\n",
            "Epoch 46/200\n",
            "26/26 - 1s - loss: 0.0025 - mean_squared_error: 0.0025 - val_loss: 0.0025 - val_mean_squared_error: 0.0025 - 881ms/epoch - 34ms/step\n",
            "Epoch 47/200\n",
            "26/26 - 1s - loss: 0.0024 - mean_squared_error: 0.0024 - val_loss: 0.0028 - val_mean_squared_error: 0.0028 - 1s/epoch - 50ms/step\n",
            "Epoch 48/200\n",
            "26/26 - 1s - loss: 0.0024 - mean_squared_error: 0.0024 - val_loss: 0.0025 - val_mean_squared_error: 0.0025 - 1s/epoch - 57ms/step\n",
            "Epoch 49/200\n",
            "26/26 - 1s - loss: 0.0023 - mean_squared_error: 0.0023 - val_loss: 0.0022 - val_mean_squared_error: 0.0022 - 1s/epoch - 39ms/step\n",
            "Epoch 50/200\n",
            "26/26 - 1s - loss: 0.0024 - mean_squared_error: 0.0024 - val_loss: 0.0023 - val_mean_squared_error: 0.0023 - 828ms/epoch - 32ms/step\n",
            "Epoch 51/200\n",
            "26/26 - 1s - loss: 0.0024 - mean_squared_error: 0.0024 - val_loss: 0.0025 - val_mean_squared_error: 0.0025 - 794ms/epoch - 31ms/step\n",
            "Epoch 52/200\n",
            "26/26 - 1s - loss: 0.0025 - mean_squared_error: 0.0025 - val_loss: 0.0023 - val_mean_squared_error: 0.0023 - 822ms/epoch - 32ms/step\n",
            "Epoch 53/200\n",
            "26/26 - 1s - loss: 0.0023 - mean_squared_error: 0.0023 - val_loss: 0.0021 - val_mean_squared_error: 0.0021 - 803ms/epoch - 31ms/step\n",
            "Epoch 54/200\n",
            "26/26 - 1s - loss: 0.0021 - mean_squared_error: 0.0021 - val_loss: 0.0020 - val_mean_squared_error: 0.0020 - 777ms/epoch - 30ms/step\n",
            "Epoch 55/200\n",
            "26/26 - 1s - loss: 0.0021 - mean_squared_error: 0.0021 - val_loss: 0.0024 - val_mean_squared_error: 0.0024 - 752ms/epoch - 29ms/step\n",
            "Epoch 56/200\n",
            "26/26 - 1s - loss: 0.0022 - mean_squared_error: 0.0022 - val_loss: 0.0021 - val_mean_squared_error: 0.0021 - 820ms/epoch - 32ms/step\n",
            "Epoch 57/200\n",
            "26/26 - 1s - loss: 0.0020 - mean_squared_error: 0.0020 - val_loss: 0.0023 - val_mean_squared_error: 0.0023 - 774ms/epoch - 30ms/step\n",
            "Epoch 58/200\n",
            "26/26 - 1s - loss: 0.0021 - mean_squared_error: 0.0021 - val_loss: 0.0023 - val_mean_squared_error: 0.0023 - 1s/epoch - 39ms/step\n",
            "Epoch 59/200\n",
            "26/26 - 2s - loss: 0.0021 - mean_squared_error: 0.0021 - val_loss: 0.0023 - val_mean_squared_error: 0.0023 - 2s/epoch - 69ms/step\n",
            "Epoch 60/200\n",
            "26/26 - 2s - loss: 0.0022 - mean_squared_error: 0.0022 - val_loss: 0.0023 - val_mean_squared_error: 0.0023 - 2s/epoch - 66ms/step\n",
            "Epoch 61/200\n",
            "26/26 - 1s - loss: 0.0019 - mean_squared_error: 0.0019 - val_loss: 0.0019 - val_mean_squared_error: 0.0019 - 1s/epoch - 54ms/step\n",
            "Epoch 62/200\n",
            "26/26 - 1s - loss: 0.0019 - mean_squared_error: 0.0019 - val_loss: 0.0019 - val_mean_squared_error: 0.0019 - 1s/epoch - 57ms/step\n",
            "Epoch 63/200\n",
            "26/26 - 1s - loss: 0.0019 - mean_squared_error: 0.0019 - val_loss: 0.0020 - val_mean_squared_error: 0.0020 - 899ms/epoch - 35ms/step\n",
            "Epoch 64/200\n",
            "26/26 - 1s - loss: 0.0019 - mean_squared_error: 0.0019 - val_loss: 0.0019 - val_mean_squared_error: 0.0019 - 785ms/epoch - 30ms/step\n",
            "Epoch 65/200\n",
            "26/26 - 1s - loss: 0.0018 - mean_squared_error: 0.0018 - val_loss: 0.0018 - val_mean_squared_error: 0.0018 - 779ms/epoch - 30ms/step\n",
            "Epoch 66/200\n",
            "26/26 - 1s - loss: 0.0018 - mean_squared_error: 0.0018 - val_loss: 0.0021 - val_mean_squared_error: 0.0021 - 812ms/epoch - 31ms/step\n",
            "Epoch 67/200\n",
            "26/26 - 1s - loss: 0.0018 - mean_squared_error: 0.0018 - val_loss: 0.0019 - val_mean_squared_error: 0.0019 - 745ms/epoch - 29ms/step\n",
            "Epoch 68/200\n",
            "26/26 - 1s - loss: 0.0017 - mean_squared_error: 0.0017 - val_loss: 0.0018 - val_mean_squared_error: 0.0018 - 824ms/epoch - 32ms/step\n",
            "Epoch 69/200\n",
            "26/26 - 1s - loss: 0.0019 - mean_squared_error: 0.0019 - val_loss: 0.0017 - val_mean_squared_error: 0.0017 - 805ms/epoch - 31ms/step\n",
            "Epoch 70/200\n",
            "26/26 - 1s - loss: 0.0018 - mean_squared_error: 0.0018 - val_loss: 0.0017 - val_mean_squared_error: 0.0017 - 760ms/epoch - 29ms/step\n",
            "Epoch 71/200\n",
            "26/26 - 1s - loss: 0.0018 - mean_squared_error: 0.0018 - val_loss: 0.0020 - val_mean_squared_error: 0.0020 - 759ms/epoch - 29ms/step\n",
            "Epoch 72/200\n",
            "26/26 - 1s - loss: 0.0018 - mean_squared_error: 0.0018 - val_loss: 0.0019 - val_mean_squared_error: 0.0019 - 746ms/epoch - 29ms/step\n",
            "Epoch 73/200\n",
            "26/26 - 1s - loss: 0.0018 - mean_squared_error: 0.0018 - val_loss: 0.0020 - val_mean_squared_error: 0.0020 - 813ms/epoch - 31ms/step\n",
            "Epoch 74/200\n",
            "26/26 - 1s - loss: 0.0017 - mean_squared_error: 0.0017 - val_loss: 0.0020 - val_mean_squared_error: 0.0020 - 817ms/epoch - 31ms/step\n",
            "Epoch 75/200\n",
            "26/26 - 1s - loss: 0.0017 - mean_squared_error: 0.0017 - val_loss: 0.0016 - val_mean_squared_error: 0.0016 - 1s/epoch - 39ms/step\n",
            "Epoch 76/200\n",
            "26/26 - 1s - loss: 0.0016 - mean_squared_error: 0.0016 - val_loss: 0.0017 - val_mean_squared_error: 0.0017 - 1s/epoch - 50ms/step\n",
            "Epoch 77/200\n",
            "26/26 - 1s - loss: 0.0016 - mean_squared_error: 0.0016 - val_loss: 0.0017 - val_mean_squared_error: 0.0017 - 1s/epoch - 57ms/step\n",
            "Epoch 78/200\n",
            "26/26 - 1s - loss: 0.0016 - mean_squared_error: 0.0016 - val_loss: 0.0021 - val_mean_squared_error: 0.0021 - 920ms/epoch - 35ms/step\n",
            "Epoch 79/200\n",
            "26/26 - 1s - loss: 0.0017 - mean_squared_error: 0.0017 - val_loss: 0.0020 - val_mean_squared_error: 0.0020 - 811ms/epoch - 31ms/step\n",
            "Epoch 80/200\n",
            "26/26 - 1s - loss: 0.0016 - mean_squared_error: 0.0016 - val_loss: 0.0016 - val_mean_squared_error: 0.0016 - 762ms/epoch - 29ms/step\n",
            "Epoch 81/200\n",
            "26/26 - 1s - loss: 0.0016 - mean_squared_error: 0.0016 - val_loss: 0.0020 - val_mean_squared_error: 0.0020 - 808ms/epoch - 31ms/step\n",
            "Epoch 82/200\n",
            "26/26 - 1s - loss: 0.0016 - mean_squared_error: 0.0016 - val_loss: 0.0014 - val_mean_squared_error: 0.0014 - 765ms/epoch - 29ms/step\n",
            "Epoch 83/200\n",
            "26/26 - 1s - loss: 0.0016 - mean_squared_error: 0.0016 - val_loss: 0.0016 - val_mean_squared_error: 0.0016 - 814ms/epoch - 31ms/step\n",
            "Epoch 84/200\n",
            "26/26 - 1s - loss: 0.0016 - mean_squared_error: 0.0016 - val_loss: 0.0017 - val_mean_squared_error: 0.0017 - 807ms/epoch - 31ms/step\n",
            "Epoch 85/200\n",
            "26/26 - 1s - loss: 0.0016 - mean_squared_error: 0.0016 - val_loss: 0.0015 - val_mean_squared_error: 0.0015 - 751ms/epoch - 29ms/step\n",
            "Epoch 86/200\n",
            "26/26 - 1s - loss: 0.0015 - mean_squared_error: 0.0015 - val_loss: 0.0016 - val_mean_squared_error: 0.0016 - 801ms/epoch - 31ms/step\n",
            "Epoch 87/200\n",
            "26/26 - 1s - loss: 0.0015 - mean_squared_error: 0.0015 - val_loss: 0.0020 - val_mean_squared_error: 0.0020 - 760ms/epoch - 29ms/step\n",
            "Epoch 88/200\n",
            "26/26 - 1s - loss: 0.0016 - mean_squared_error: 0.0016 - val_loss: 0.0014 - val_mean_squared_error: 0.0014 - 807ms/epoch - 31ms/step\n",
            "Epoch 89/200\n",
            "26/26 - 1s - loss: 0.0015 - mean_squared_error: 0.0015 - val_loss: 0.0015 - val_mean_squared_error: 0.0015 - 756ms/epoch - 29ms/step\n",
            "Epoch 90/200\n",
            "26/26 - 1s - loss: 0.0014 - mean_squared_error: 0.0014 - val_loss: 0.0013 - val_mean_squared_error: 0.0013 - 806ms/epoch - 31ms/step\n",
            "Epoch 91/200\n",
            "26/26 - 1s - loss: 0.0014 - mean_squared_error: 0.0014 - val_loss: 0.0013 - val_mean_squared_error: 0.0013 - 1s/epoch - 50ms/step\n",
            "Epoch 92/200\n",
            "26/26 - 1s - loss: 0.0015 - mean_squared_error: 0.0015 - val_loss: 0.0014 - val_mean_squared_error: 0.0014 - 1s/epoch - 50ms/step\n",
            "Epoch 93/200\n",
            "26/26 - 1s - loss: 0.0014 - mean_squared_error: 0.0014 - val_loss: 0.0013 - val_mean_squared_error: 0.0013 - 1s/epoch - 50ms/step\n",
            "Epoch 94/200\n",
            "26/26 - 1s - loss: 0.0014 - mean_squared_error: 0.0014 - val_loss: 0.0014 - val_mean_squared_error: 0.0014 - 748ms/epoch - 29ms/step\n",
            "Epoch 95/200\n",
            "26/26 - 1s - loss: 0.0014 - mean_squared_error: 0.0014 - val_loss: 0.0015 - val_mean_squared_error: 0.0015 - 823ms/epoch - 32ms/step\n",
            "Epoch 96/200\n",
            "26/26 - 1s - loss: 0.0013 - mean_squared_error: 0.0013 - val_loss: 0.0016 - val_mean_squared_error: 0.0016 - 753ms/epoch - 29ms/step\n",
            "Epoch 97/200\n",
            "26/26 - 1s - loss: 0.0014 - mean_squared_error: 0.0014 - val_loss: 0.0015 - val_mean_squared_error: 0.0015 - 834ms/epoch - 32ms/step\n",
            "Epoch 98/200\n",
            "26/26 - 1s - loss: 0.0013 - mean_squared_error: 0.0013 - val_loss: 0.0014 - val_mean_squared_error: 0.0014 - 749ms/epoch - 29ms/step\n",
            "Epoch 99/200\n",
            "26/26 - 1s - loss: 0.0014 - mean_squared_error: 0.0014 - val_loss: 0.0014 - val_mean_squared_error: 0.0014 - 822ms/epoch - 32ms/step\n",
            "Epoch 100/200\n",
            "26/26 - 1s - loss: 0.0013 - mean_squared_error: 0.0013 - val_loss: 0.0014 - val_mean_squared_error: 0.0014 - 805ms/epoch - 31ms/step\n",
            "Epoch 101/200\n",
            "26/26 - 1s - loss: 0.0014 - mean_squared_error: 0.0014 - val_loss: 0.0014 - val_mean_squared_error: 0.0014 - 802ms/epoch - 31ms/step\n",
            "Epoch 102/200\n",
            "26/26 - 1s - loss: 0.0014 - mean_squared_error: 0.0014 - val_loss: 0.0014 - val_mean_squared_error: 0.0014 - 754ms/epoch - 29ms/step\n",
            "Epoch 103/200\n",
            "26/26 - 2s - loss: 0.0013 - mean_squared_error: 0.0013 - val_loss: 0.0013 - val_mean_squared_error: 0.0013 - 2s/epoch - 63ms/step\n",
            "Epoch 104/200\n",
            "26/26 - 1s - loss: 0.0013 - mean_squared_error: 0.0013 - val_loss: 0.0023 - val_mean_squared_error: 0.0023 - 808ms/epoch - 31ms/step\n",
            "Epoch 105/200\n",
            "26/26 - 1s - loss: 0.0015 - mean_squared_error: 0.0015 - val_loss: 0.0013 - val_mean_squared_error: 0.0013 - 1s/epoch - 47ms/step\n",
            "Epoch 106/200\n",
            "26/26 - 2s - loss: 0.0014 - mean_squared_error: 0.0014 - val_loss: 0.0013 - val_mean_squared_error: 0.0013 - 2s/epoch - 58ms/step\n",
            "Epoch 107/200\n",
            "26/26 - 1s - loss: 0.0014 - mean_squared_error: 0.0014 - val_loss: 0.0017 - val_mean_squared_error: 0.0017 - 1s/epoch - 53ms/step\n",
            "Epoch 108/200\n",
            "26/26 - 1s - loss: 0.0015 - mean_squared_error: 0.0015 - val_loss: 0.0012 - val_mean_squared_error: 0.0012 - 814ms/epoch - 31ms/step\n",
            "Epoch 109/200\n",
            "26/26 - 1s - loss: 0.0013 - mean_squared_error: 0.0013 - val_loss: 0.0013 - val_mean_squared_error: 0.0013 - 820ms/epoch - 32ms/step\n",
            "Epoch 110/200\n",
            "26/26 - 1s - loss: 0.0013 - mean_squared_error: 0.0013 - val_loss: 0.0012 - val_mean_squared_error: 0.0012 - 751ms/epoch - 29ms/step\n",
            "Epoch 111/200\n",
            "26/26 - 1s - loss: 0.0013 - mean_squared_error: 0.0013 - val_loss: 0.0013 - val_mean_squared_error: 0.0013 - 802ms/epoch - 31ms/step\n",
            "Epoch 112/200\n",
            "26/26 - 1s - loss: 0.0013 - mean_squared_error: 0.0013 - val_loss: 0.0013 - val_mean_squared_error: 0.0013 - 809ms/epoch - 31ms/step\n",
            "Epoch 113/200\n",
            "26/26 - 1s - loss: 0.0012 - mean_squared_error: 0.0012 - val_loss: 0.0014 - val_mean_squared_error: 0.0014 - 758ms/epoch - 29ms/step\n",
            "Epoch 114/200\n",
            "26/26 - 1s - loss: 0.0013 - mean_squared_error: 0.0013 - val_loss: 0.0014 - val_mean_squared_error: 0.0014 - 828ms/epoch - 32ms/step\n",
            "Epoch 115/200\n",
            "26/26 - 1s - loss: 0.0013 - mean_squared_error: 0.0013 - val_loss: 0.0015 - val_mean_squared_error: 0.0015 - 839ms/epoch - 32ms/step\n",
            "Epoch 116/200\n",
            "26/26 - 1s - loss: 0.0012 - mean_squared_error: 0.0012 - val_loss: 0.0011 - val_mean_squared_error: 0.0011 - 792ms/epoch - 30ms/step\n",
            "Epoch 117/200\n",
            "26/26 - 1s - loss: 0.0011 - mean_squared_error: 0.0011 - val_loss: 0.0012 - val_mean_squared_error: 0.0012 - 770ms/epoch - 30ms/step\n",
            "Epoch 118/200\n",
            "26/26 - 1s - loss: 0.0013 - mean_squared_error: 0.0013 - val_loss: 0.0013 - val_mean_squared_error: 0.0013 - 817ms/epoch - 31ms/step\n",
            "Epoch 119/200\n",
            "26/26 - 1s - loss: 0.0013 - mean_squared_error: 0.0013 - val_loss: 0.0011 - val_mean_squared_error: 0.0011 - 769ms/epoch - 30ms/step\n",
            "Epoch 120/200\n",
            "26/26 - 1s - loss: 0.0012 - mean_squared_error: 0.0012 - val_loss: 0.0012 - val_mean_squared_error: 0.0012 - 1s/epoch - 47ms/step\n",
            "Epoch 121/200\n",
            "26/26 - 1s - loss: 0.0011 - mean_squared_error: 0.0011 - val_loss: 0.0011 - val_mean_squared_error: 0.0011 - 1s/epoch - 50ms/step\n",
            "Epoch 122/200\n",
            "26/26 - 2s - loss: 0.0012 - mean_squared_error: 0.0012 - val_loss: 0.0013 - val_mean_squared_error: 0.0013 - 2s/epoch - 58ms/step\n",
            "Epoch 123/200\n",
            "26/26 - 1s - loss: 0.0013 - mean_squared_error: 0.0013 - val_loss: 0.0014 - val_mean_squared_error: 0.0014 - 806ms/epoch - 31ms/step\n",
            "Epoch 124/200\n",
            "26/26 - 1s - loss: 0.0012 - mean_squared_error: 0.0012 - val_loss: 0.0011 - val_mean_squared_error: 0.0011 - 812ms/epoch - 31ms/step\n",
            "Epoch 125/200\n",
            "26/26 - 1s - loss: 0.0012 - mean_squared_error: 0.0012 - val_loss: 0.0012 - val_mean_squared_error: 0.0012 - 762ms/epoch - 29ms/step\n",
            "Epoch 126/200\n",
            "26/26 - 1s - loss: 0.0011 - mean_squared_error: 0.0011 - val_loss: 0.0011 - val_mean_squared_error: 0.0011 - 811ms/epoch - 31ms/step\n",
            "Epoch 127/200\n",
            "26/26 - 1s - loss: 0.0011 - mean_squared_error: 0.0011 - val_loss: 0.0011 - val_mean_squared_error: 0.0011 - 743ms/epoch - 29ms/step\n",
            "Epoch 128/200\n",
            "26/26 - 1s - loss: 0.0011 - mean_squared_error: 0.0011 - val_loss: 0.0017 - val_mean_squared_error: 0.0017 - 808ms/epoch - 31ms/step\n",
            "Epoch 129/200\n",
            "26/26 - 1s - loss: 0.0012 - mean_squared_error: 0.0012 - val_loss: 0.0012 - val_mean_squared_error: 0.0012 - 751ms/epoch - 29ms/step\n",
            "Epoch 130/200\n",
            "26/26 - 1s - loss: 0.0012 - mean_squared_error: 0.0012 - val_loss: 0.0015 - val_mean_squared_error: 0.0015 - 777ms/epoch - 30ms/step\n",
            "Epoch 131/200\n",
            "26/26 - 1s - loss: 0.0012 - mean_squared_error: 0.0012 - val_loss: 0.0013 - val_mean_squared_error: 0.0013 - 755ms/epoch - 29ms/step\n",
            "Epoch 132/200\n",
            "26/26 - 1s - loss: 0.0011 - mean_squared_error: 0.0011 - val_loss: 0.0010 - val_mean_squared_error: 0.0010 - 767ms/epoch - 30ms/step\n",
            "Epoch 133/200\n",
            "26/26 - 1s - loss: 0.0011 - mean_squared_error: 0.0011 - val_loss: 0.0012 - val_mean_squared_error: 0.0012 - 816ms/epoch - 31ms/step\n",
            "Epoch 134/200\n",
            "26/26 - 1s - loss: 0.0011 - mean_squared_error: 0.0011 - val_loss: 0.0010 - val_mean_squared_error: 0.0010 - 771ms/epoch - 30ms/step\n",
            "Epoch 135/200\n",
            "26/26 - 1s - loss: 0.0011 - mean_squared_error: 0.0011 - val_loss: 0.0012 - val_mean_squared_error: 0.0012 - 1s/epoch - 39ms/step\n",
            "Epoch 136/200\n",
            "26/26 - 1s - loss: 0.0011 - mean_squared_error: 0.0011 - val_loss: 0.0011 - val_mean_squared_error: 0.0011 - 1s/epoch - 51ms/step\n",
            "Epoch 137/200\n",
            "26/26 - 1s - loss: 0.0011 - mean_squared_error: 0.0011 - val_loss: 9.6612e-04 - val_mean_squared_error: 9.6612e-04 - 1s/epoch - 52ms/step\n",
            "Epoch 138/200\n",
            "26/26 - 1s - loss: 0.0011 - mean_squared_error: 0.0011 - val_loss: 0.0013 - val_mean_squared_error: 0.0013 - 1s/epoch - 40ms/step\n",
            "Epoch 139/200\n",
            "26/26 - 1s - loss: 0.0010 - mean_squared_error: 0.0010 - val_loss: 0.0011 - val_mean_squared_error: 0.0011 - 767ms/epoch - 29ms/step\n",
            "Epoch 140/200\n",
            "26/26 - 1s - loss: 0.0012 - mean_squared_error: 0.0012 - val_loss: 0.0011 - val_mean_squared_error: 0.0011 - 817ms/epoch - 31ms/step\n",
            "Epoch 141/200\n",
            "26/26 - 1s - loss: 0.0011 - mean_squared_error: 0.0011 - val_loss: 0.0011 - val_mean_squared_error: 0.0011 - 815ms/epoch - 31ms/step\n",
            "Epoch 142/200\n",
            "26/26 - 1s - loss: 0.0011 - mean_squared_error: 0.0011 - val_loss: 9.9474e-04 - val_mean_squared_error: 9.9474e-04 - 803ms/epoch - 31ms/step\n",
            "Epoch 143/200\n",
            "26/26 - 1s - loss: 0.0010 - mean_squared_error: 0.0010 - val_loss: 0.0013 - val_mean_squared_error: 0.0013 - 817ms/epoch - 31ms/step\n",
            "Epoch 144/200\n",
            "26/26 - 1s - loss: 0.0011 - mean_squared_error: 0.0011 - val_loss: 0.0012 - val_mean_squared_error: 0.0012 - 775ms/epoch - 30ms/step\n",
            "Epoch 145/200\n",
            "26/26 - 1s - loss: 0.0011 - mean_squared_error: 0.0011 - val_loss: 9.0568e-04 - val_mean_squared_error: 9.0568e-04 - 819ms/epoch - 32ms/step\n",
            "Epoch 146/200\n",
            "26/26 - 1s - loss: 0.0011 - mean_squared_error: 0.0011 - val_loss: 0.0012 - val_mean_squared_error: 0.0012 - 752ms/epoch - 29ms/step\n",
            "Epoch 147/200\n",
            "26/26 - 1s - loss: 9.8622e-04 - mean_squared_error: 9.8622e-04 - val_loss: 0.0010 - val_mean_squared_error: 0.0010 - 811ms/epoch - 31ms/step\n",
            "Epoch 148/200\n",
            "26/26 - 1s - loss: 0.0011 - mean_squared_error: 0.0011 - val_loss: 0.0014 - val_mean_squared_error: 0.0014 - 824ms/epoch - 32ms/step\n",
            "Epoch 149/200\n",
            "26/26 - 1s - loss: 0.0011 - mean_squared_error: 0.0011 - val_loss: 0.0019 - val_mean_squared_error: 0.0019 - 856ms/epoch - 33ms/step\n",
            "Epoch 150/200\n",
            "26/26 - 1s - loss: 0.0012 - mean_squared_error: 0.0012 - val_loss: 9.8731e-04 - val_mean_squared_error: 9.8731e-04 - 841ms/epoch - 32ms/step\n",
            "Epoch 151/200\n",
            "26/26 - 1s - loss: 0.0010 - mean_squared_error: 0.0010 - val_loss: 9.7669e-04 - val_mean_squared_error: 9.7669e-04 - 1s/epoch - 50ms/step\n",
            "Epoch 152/200\n",
            "26/26 - 1s - loss: 0.0010 - mean_squared_error: 0.0010 - val_loss: 9.3382e-04 - val_mean_squared_error: 9.3382e-04 - 1s/epoch - 57ms/step\n",
            "Epoch 153/200\n",
            "26/26 - 1s - loss: 9.6312e-04 - mean_squared_error: 9.6312e-04 - val_loss: 0.0010 - val_mean_squared_error: 0.0010 - 915ms/epoch - 35ms/step\n",
            "Epoch 154/200\n",
            "26/26 - 1s - loss: 9.7388e-04 - mean_squared_error: 9.7388e-04 - val_loss: 9.6875e-04 - val_mean_squared_error: 9.6875e-04 - 822ms/epoch - 32ms/step\n",
            "Epoch 155/200\n",
            "26/26 - 1s - loss: 9.8786e-04 - mean_squared_error: 9.8786e-04 - val_loss: 9.1919e-04 - val_mean_squared_error: 9.1919e-04 - 814ms/epoch - 31ms/step\n",
            "Epoch 156/200\n",
            "26/26 - 1s - loss: 0.0010 - mean_squared_error: 0.0010 - val_loss: 0.0010 - val_mean_squared_error: 0.0010 - 781ms/epoch - 30ms/step\n",
            "Epoch 157/200\n",
            "26/26 - 1s - loss: 0.0010 - mean_squared_error: 0.0010 - val_loss: 8.9657e-04 - val_mean_squared_error: 8.9657e-04 - 801ms/epoch - 31ms/step\n",
            "Epoch 158/200\n",
            "26/26 - 1s - loss: 9.6973e-04 - mean_squared_error: 9.6973e-04 - val_loss: 0.0012 - val_mean_squared_error: 0.0012 - 768ms/epoch - 30ms/step\n",
            "Epoch 159/200\n",
            "26/26 - 1s - loss: 0.0011 - mean_squared_error: 0.0011 - val_loss: 9.2295e-04 - val_mean_squared_error: 9.2295e-04 - 804ms/epoch - 31ms/step\n",
            "Epoch 160/200\n",
            "26/26 - 1s - loss: 9.5192e-04 - mean_squared_error: 9.5192e-04 - val_loss: 0.0013 - val_mean_squared_error: 0.0013 - 816ms/epoch - 31ms/step\n",
            "Epoch 161/200\n",
            "26/26 - 1s - loss: 9.3924e-04 - mean_squared_error: 9.3924e-04 - val_loss: 0.0012 - val_mean_squared_error: 0.0012 - 798ms/epoch - 31ms/step\n",
            "Epoch 162/200\n",
            "26/26 - 1s - loss: 9.4984e-04 - mean_squared_error: 9.4984e-04 - val_loss: 9.5124e-04 - val_mean_squared_error: 9.5124e-04 - 806ms/epoch - 31ms/step\n",
            "Epoch 163/200\n",
            "26/26 - 1s - loss: 8.8933e-04 - mean_squared_error: 8.8933e-04 - val_loss: 9.6721e-04 - val_mean_squared_error: 9.6721e-04 - 816ms/epoch - 31ms/step\n",
            "Epoch 164/200\n",
            "26/26 - 1s - loss: 9.0869e-04 - mean_squared_error: 9.0869e-04 - val_loss: 0.0015 - val_mean_squared_error: 0.0015 - 763ms/epoch - 29ms/step\n",
            "Epoch 165/200\n",
            "26/26 - 1s - loss: 0.0012 - mean_squared_error: 0.0012 - val_loss: 0.0010 - val_mean_squared_error: 0.0010 - 839ms/epoch - 32ms/step\n",
            "Epoch 166/200\n",
            "26/26 - 1s - loss: 0.0012 - mean_squared_error: 0.0012 - val_loss: 8.2558e-04 - val_mean_squared_error: 8.2558e-04 - 1s/epoch - 51ms/step\n",
            "Epoch 167/200\n",
            "26/26 - 1s - loss: 9.3232e-04 - mean_squared_error: 9.3232e-04 - val_loss: 8.6805e-04 - val_mean_squared_error: 8.6805e-04 - 1s/epoch - 57ms/step\n",
            "Epoch 168/200\n",
            "26/26 - 1s - loss: 9.0499e-04 - mean_squared_error: 9.0499e-04 - val_loss: 9.7408e-04 - val_mean_squared_error: 9.7408e-04 - 964ms/epoch - 37ms/step\n",
            "Epoch 169/200\n",
            "26/26 - 1s - loss: 9.1409e-04 - mean_squared_error: 9.1409e-04 - val_loss: 8.3652e-04 - val_mean_squared_error: 8.3652e-04 - 771ms/epoch - 30ms/step\n",
            "Epoch 170/200\n",
            "26/26 - 1s - loss: 0.0011 - mean_squared_error: 0.0011 - val_loss: 0.0011 - val_mean_squared_error: 0.0011 - 759ms/epoch - 29ms/step\n",
            "Epoch 171/200\n",
            "26/26 - 1s - loss: 9.2048e-04 - mean_squared_error: 9.2048e-04 - val_loss: 0.0010 - val_mean_squared_error: 0.0010 - 818ms/epoch - 31ms/step\n",
            "Epoch 172/200\n",
            "26/26 - 1s - loss: 9.7328e-04 - mean_squared_error: 9.7328e-04 - val_loss: 8.6557e-04 - val_mean_squared_error: 8.6557e-04 - 813ms/epoch - 31ms/step\n",
            "Epoch 173/200\n",
            "26/26 - 1s - loss: 9.1097e-04 - mean_squared_error: 9.1097e-04 - val_loss: 8.1140e-04 - val_mean_squared_error: 8.1140e-04 - 765ms/epoch - 29ms/step\n",
            "Epoch 174/200\n",
            "26/26 - 1s - loss: 8.4298e-04 - mean_squared_error: 8.4298e-04 - val_loss: 7.6680e-04 - val_mean_squared_error: 7.6680e-04 - 766ms/epoch - 29ms/step\n",
            "Epoch 175/200\n",
            "26/26 - 1s - loss: 9.4618e-04 - mean_squared_error: 9.4618e-04 - val_loss: 0.0012 - val_mean_squared_error: 0.0012 - 1s/epoch - 46ms/step\n",
            "Epoch 176/200\n",
            "26/26 - 1s - loss: 0.0011 - mean_squared_error: 0.0011 - val_loss: 8.4245e-04 - val_mean_squared_error: 8.4245e-04 - 831ms/epoch - 32ms/step\n",
            "Epoch 177/200\n",
            "26/26 - 1s - loss: 8.7952e-04 - mean_squared_error: 8.7952e-04 - val_loss: 9.5454e-04 - val_mean_squared_error: 9.5454e-04 - 750ms/epoch - 29ms/step\n",
            "Epoch 178/200\n",
            "26/26 - 1s - loss: 0.0012 - mean_squared_error: 0.0012 - val_loss: 9.3774e-04 - val_mean_squared_error: 9.3774e-04 - 809ms/epoch - 31ms/step\n",
            "Epoch 179/200\n",
            "26/26 - 1s - loss: 9.6692e-04 - mean_squared_error: 9.6692e-04 - val_loss: 9.8870e-04 - val_mean_squared_error: 9.8870e-04 - 768ms/epoch - 30ms/step\n",
            "Epoch 180/200\n",
            "26/26 - 1s - loss: 9.6010e-04 - mean_squared_error: 9.6010e-04 - val_loss: 0.0010 - val_mean_squared_error: 0.0010 - 1s/epoch - 48ms/step\n",
            "Epoch 181/200\n",
            "26/26 - 1s - loss: 8.7402e-04 - mean_squared_error: 8.7402e-04 - val_loss: 0.0011 - val_mean_squared_error: 0.0011 - 1s/epoch - 50ms/step\n",
            "Epoch 182/200\n",
            "26/26 - 2s - loss: 8.9843e-04 - mean_squared_error: 8.9843e-04 - val_loss: 9.2919e-04 - val_mean_squared_error: 9.2919e-04 - 2s/epoch - 58ms/step\n",
            "Epoch 183/200\n",
            "26/26 - 1s - loss: 8.7314e-04 - mean_squared_error: 8.7314e-04 - val_loss: 7.8544e-04 - val_mean_squared_error: 7.8544e-04 - 859ms/epoch - 33ms/step\n",
            "Epoch 184/200\n",
            "26/26 - 1s - loss: 8.9913e-04 - mean_squared_error: 8.9913e-04 - val_loss: 8.4124e-04 - val_mean_squared_error: 8.4124e-04 - 755ms/epoch - 29ms/step\n",
            "Epoch 185/200\n",
            "26/26 - 1s - loss: 8.6695e-04 - mean_squared_error: 8.6695e-04 - val_loss: 8.3930e-04 - val_mean_squared_error: 8.3930e-04 - 777ms/epoch - 30ms/step\n",
            "Epoch 186/200\n",
            "26/26 - 1s - loss: 8.3940e-04 - mean_squared_error: 8.3940e-04 - val_loss: 0.0011 - val_mean_squared_error: 0.0011 - 822ms/epoch - 32ms/step\n",
            "Epoch 187/200\n",
            "26/26 - 1s - loss: 9.6948e-04 - mean_squared_error: 9.6948e-04 - val_loss: 7.9932e-04 - val_mean_squared_error: 7.9932e-04 - 844ms/epoch - 32ms/step\n",
            "Epoch 188/200\n",
            "26/26 - 1s - loss: 8.7224e-04 - mean_squared_error: 8.7224e-04 - val_loss: 8.6731e-04 - val_mean_squared_error: 8.6731e-04 - 770ms/epoch - 30ms/step\n",
            "Epoch 189/200\n",
            "26/26 - 1s - loss: 8.4586e-04 - mean_squared_error: 8.4586e-04 - val_loss: 0.0015 - val_mean_squared_error: 0.0015 - 810ms/epoch - 31ms/step\n",
            "Epoch 190/200\n",
            "26/26 - 1s - loss: 9.5817e-04 - mean_squared_error: 9.5817e-04 - val_loss: 0.0012 - val_mean_squared_error: 0.0012 - 833ms/epoch - 32ms/step\n",
            "Epoch 191/200\n",
            "26/26 - 1s - loss: 0.0010 - mean_squared_error: 0.0010 - val_loss: 9.5280e-04 - val_mean_squared_error: 9.5280e-04 - 821ms/epoch - 32ms/step\n",
            "Epoch 192/200\n",
            "26/26 - 1s - loss: 9.1049e-04 - mean_squared_error: 9.1049e-04 - val_loss: 0.0010 - val_mean_squared_error: 0.0010 - 770ms/epoch - 30ms/step\n",
            "Epoch 193/200\n",
            "26/26 - 1s - loss: 9.0292e-04 - mean_squared_error: 9.0292e-04 - val_loss: 0.0011 - val_mean_squared_error: 0.0011 - 806ms/epoch - 31ms/step\n",
            "Epoch 194/200\n",
            "26/26 - 1s - loss: 8.1547e-04 - mean_squared_error: 8.1547e-04 - val_loss: 7.6371e-04 - val_mean_squared_error: 7.6371e-04 - 805ms/epoch - 31ms/step\n",
            "Epoch 195/200\n",
            "26/26 - 1s - loss: 7.8271e-04 - mean_squared_error: 7.8271e-04 - val_loss: 8.4856e-04 - val_mean_squared_error: 8.4856e-04 - 1s/epoch - 41ms/step\n",
            "Epoch 196/200\n",
            "26/26 - 2s - loss: 8.0499e-04 - mean_squared_error: 8.0499e-04 - val_loss: 0.0018 - val_mean_squared_error: 0.0018 - 2s/epoch - 58ms/step\n",
            "Epoch 197/200\n",
            "26/26 - 1s - loss: 0.0010 - mean_squared_error: 0.0010 - val_loss: 0.0012 - val_mean_squared_error: 0.0012 - 1s/epoch - 54ms/step\n",
            "Epoch 198/200\n",
            "26/26 - 1s - loss: 9.6243e-04 - mean_squared_error: 9.6243e-04 - val_loss: 0.0012 - val_mean_squared_error: 0.0012 - 880ms/epoch - 34ms/step\n",
            "Epoch 199/200\n",
            "26/26 - 1s - loss: 9.1834e-04 - mean_squared_error: 9.1834e-04 - val_loss: 7.0128e-04 - val_mean_squared_error: 7.0128e-04 - 792ms/epoch - 30ms/step\n",
            "Epoch 200/200\n",
            "26/26 - 1s - loss: 8.5131e-04 - mean_squared_error: 8.5131e-04 - val_loss: 8.7209e-04 - val_mean_squared_error: 8.7209e-04 - 817ms/epoch - 31ms/step\n",
            "Model: \"sequential_1\"\n",
            "_________________________________________________________________\n",
            " Layer (type)                Output Shape              Param #   \n",
            "=================================================================\n",
            " rnn_2 (RNN)                 (None, 10, 64)            13824     \n",
            "                                                                 \n",
            " rnn_3 (RNN)                 (None, 10, 64)            24576     \n",
            "                                                                 \n",
            " dense_1 (Dense)             (None, 10, 2)             130       \n",
            "                                                                 \n",
            "=================================================================\n",
            "Total params: 38530 (150.51 KB)\n",
            "Trainable params: 38530 (150.51 KB)\n",
            "Non-trainable params: 0 (0.00 Byte)\n",
            "_________________________________________________________________\n"
          ]
        }
      ]
    },
    {
      "cell_type": "code",
      "source": [
        "tf.keras.utils.plot_model(model, show_shapes=True, show_layer_names=False, show_layer_activations=True)"
      ],
      "metadata": {
        "colab": {
          "base_uri": "https://localhost:8080/",
          "height": 422
        },
        "id": "B5MtVlmKiqjK",
        "outputId": "dabed8f8-db3c-44a0-d0b4-7ba36d1f9635"
      },
      "id": "B5MtVlmKiqjK",
      "execution_count": null,
      "outputs": [
        {
          "output_type": "execute_result",
          "data": {
            "image/png": "[encoded data removed]",
            "text/plain": [
              "<IPython.core.display.Image object>"
            ]
          },
          "metadata": {},
          "execution_count": 16
        }
      ]
    },
    {
      "cell_type": "code",
      "source": [
        "model.save('icrnn.h5')\n",
        "# model.save('lstm.h5')\n",
        "# model.save('rnn.h5')"
      ],
      "metadata": {
        "colab": {
          "base_uri": "https://localhost:8080/"
        },
        "id": "D7f1EGscvkXD",
        "outputId": "ce4dc25c-0c67-4cef-946e-c8b0bd2c28f4"
      },
      "id": "D7f1EGscvkXD",
      "execution_count": null,
      "outputs": [
        {
          "output_type": "stream",
          "name": "stderr",
          "text": [
            "/usr/local/lib/python3.10/dist-packages/keras/src/engine/training.py:3103: UserWarning: You are saving your model as an HDF5 file via `model.save()`. This file format is considered legacy. We recommend using instead the native Keras format, e.g. `model.save('my_model.keras')`.\n",
            "  saving_api.save_model(\n"
          ]
        }
      ]
    },
    {
      "cell_type": "code",
      "execution_count": null,
      "metadata": {
        "colab": {
          "base_uri": "https://localhost:8080/"
        },
        "id": "QBqsaQM1AvPk",
        "outputId": "da9ac0f8-c55f-4a7b-86c8-1e4c3eec0930"
      },
      "outputs": [
        {
          "output_type": "stream",
          "name": "stderr",
          "text": [
            "WARNING:tensorflow:From /usr/local/lib/python3.10/dist-packages/tensorflow/python/profiler/internal/flops_registry.py:453: tensor_shape_from_node_def_name (from tensorflow.python.framework.graph_util_impl) is deprecated and will be removed in a future version.\n",
            "Instructions for updating:\n",
            "This API was designed for TensorFlow v1. See https://www.tensorflow.org/guide/migrate for instructions on how to migrate your code to TensorFlow v2.\n"
          ]
        },
        {
          "output_type": "stream",
          "name": "stdout",
          "text": [
            "The FLOPs is:79892\n"
          ]
        }
      ],
      "source": [
        "from tensorflow.python.framework.convert_to_constants import  convert_variables_to_constants_v2_as_graph\n",
        "\n",
        "def get_flops(model):\n",
        "    concrete = tf.function(lambda inputs: model(inputs))\n",
        "    concrete_func = concrete.get_concrete_function(\n",
        "        [tf.TensorSpec([1, *inputs.shape[1:]]) for inputs in model.inputs])\n",
        "    frozen_func, graph_def = convert_variables_to_constants_v2_as_graph(concrete_func, lower_control_flow=False)\n",
        "    with tf.Graph().as_default() as graph:\n",
        "        tf.graph_util.import_graph_def(graph_def, name='')\n",
        "        run_meta = tf.compat.v1.RunMetadata()\n",
        "        opts = tf.compat.v1.profiler.ProfileOptionBuilder.float_operation()\n",
        "        flops = tf.compat.v1.profiler.profile(graph=graph, run_meta=run_meta, cmd=\"op\", options=opts)\n",
        "        return flops.total_float_ops\n",
        "\n",
        "print(\"The FLOPs is:{}\".format(get_flops(model)) ,flush=True )"
      ],
      "id": "QBqsaQM1AvPk"
    },
    {
      "cell_type": "code",
      "execution_count": null,
      "metadata": {
        "colab": {
          "base_uri": "https://localhost:8080/",
          "height": 472
        },
        "id": "z3WiUyZFw-Py",
        "outputId": "f640d247-5c50-43b8-d5e4-2dc0f47e86d0"
      },
      "outputs": [
        {
          "output_type": "display_data",
          "data": {
            "text/plain": [
              "<Figure size 640x480 with 1 Axes>"
            ],
            "image/png": "[encoded data removed]"
          },
          "metadata": {}
        }
      ],
      "source": [
        "# plot training and validation losses against epochs\n",
        "\n",
        "loss = history.history['loss']\n",
        "val_loss = history.history['val_loss']\n",
        "epochs = range(1, len(loss) + 1)\n",
        "plt.plot(epochs, loss, 'r', label='Training loss')\n",
        "plt.plot(epochs, val_loss, 'b', label='Validation loss')\n",
        "plt.title('ICRNN Training and validation loss')\n",
        "plt.xlabel(\"epoch\")\n",
        "plt.ylabel(\"loss\")\n",
        "plt.legend()\n",
        "plt.show()"
      ],
      "id": "z3WiUyZFw-Py"
    },
    {
      "cell_type": "code",
      "execution_count": null,
      "metadata": {
        "colab": {
          "base_uri": "https://localhost:8080/",
          "height": 924
        },
        "id": "47de9c33",
        "outputId": "c64e42d9-3e45-48a7-e847-cd016d995471"
      },
      "outputs": [
        {
          "output_type": "stream",
          "name": "stderr",
          "text": [
            "<ipython-input-20-9998cc70c050>:12: RuntimeWarning: invalid value encountered in sqrt\n",
            "  sqrt = np.sqrt(-2688000 * i**2 + 15772800000)\n"
          ]
        },
        {
          "output_type": "stream",
          "name": "stdout",
          "text": [
            "116/116 [==============================] - 1s 5ms/step\n",
            "(3706, 10, 2)\n"
          ]
        },
        {
          "output_type": "display_data",
          "data": {
            "text/plain": [
              "<Figure size 1000x1000 with 1 Axes>"
            ],
            "image/png": "[encoded data removed]"
          },
          "metadata": {}
        }
      ],
      "source": [
        "\"\"\"\n",
        "    equation for the stability ellipse is 1060x^2 + 44xy + 0.52y^2 - 372 = 0\n",
        "\"\"\"\n",
        "# prepare x and y coordinates for plotting the stability region\n",
        "y = np.linspace(-100, 100, 100000, endpoint=True)\n",
        "\n",
        "x_upper = list()\n",
        "x_lower = list()\n",
        "y_plot = list()\n",
        "\n",
        "for i in y:\n",
        "    sqrt = np.sqrt(-2688000 * i**2 + 15772800000)\n",
        "    if sqrt >= 0:\n",
        "        y_plot.append(i)\n",
        "        x_upper.append((-4400 * i + sqrt) / 212000)\n",
        "        x_lower.append((-4400 * i - sqrt) / 212000)\n",
        "        pass\n",
        "    pass\n",
        "\n",
        "\n",
        "plt.figure(figsize=(10,10))\n",
        "\n",
        "# # plot the first 10 samples and their trajectories\n",
        "y_predict = model.predict(X_test)\n",
        "print(y_predict.shape)\n",
        "\n",
        "y_predict = y_predict.reshape(-1,2)\n",
        "y_predict = scaler_y.inverse_transform(y_predict)\n",
        "y_predict = y_predict.reshape(-1,num_step,2)\n",
        "\n",
        "X_plot = X_test.reshape(-1,num_dims)\n",
        "X_plot = scaler_X.inverse_transform(X_plot)\n",
        "X_plot = X_plot.reshape(-1,num_step,num_dims)\n",
        "\n",
        "for i in range(10):\n",
        "    if i == 0:  # only add label to 1 data point\n",
        "        plt.plot(X_plot[i, 0, 1], X_plot[i, 0, 0], marker=\"*\", markersize=15, color='pink')\n",
        "        plt.plot(y_test[i, :, 1], y_test[i, :, 0], color='cyan', lw=2, label='Test')\n",
        "        plt.plot(y_predict[i, :, 1], y_predict[i, :, 0], color='black', lw=2, ls=':', label='Predicted')\n",
        "    else:\n",
        "        plt.plot(X_plot[i, 0, 1], X_plot[i, 0, 0], marker=\"*\", markersize=15, color='pink')\n",
        "        plt.plot(y_test[i, :, 1], y_test[i, :, 0], color='cyan', lw=2)\n",
        "        plt.plot(y_predict[i, :, 1], y_predict[i, :, 0], color='black', lw=2, ls=':')\n",
        "\n",
        "# plot stability region\n",
        "plt.plot(x_lower, y_plot, color='steelblue', label='stability region')\n",
        "plt.plot(x_upper, y_plot, color='steelblue')\n",
        "plt.ylim([-100, 100])\n",
        "plt.xlim([-2, 2])\n",
        "\n",
        "plt.xlabel(\"C_A - C_As\")\n",
        "plt.ylabel(\"T - T_s\")\n",
        "plt.legend()\n",
        "plt.show()\n"
      ],
      "id": "47de9c33"
    },
    {
      "cell_type": "code",
      "execution_count": null,
      "metadata": {
        "colab": {
          "base_uri": "https://localhost:8080/"
        },
        "id": "QFN4rQsCvKV7",
        "outputId": "f3e44d6d-0d70-4ecb-c573-ea5b70e2ae83"
      },
      "outputs": [
        {
          "output_type": "stream",
          "name": "stdout",
          "text": [
            "[72.68444  72.3356   71.99087  71.60857  71.15953  70.71754  70.289856\n",
            " 69.879745 69.48969  69.121605]\n",
            "[70.72561539 70.07921788 69.43025205 68.77887103 68.12522131 67.46944305\n",
            " 66.81167038 66.15203175 65.49065012 64.82764332]\n"
          ]
        }
      ],
      "source": [
        "print(y_predict[8, :, 0])\n",
        "print(y_test[8, :, 0])"
      ],
      "id": "QFN4rQsCvKV7"
    }
  ],
  "metadata": {
    "colab": {
      "provenance": []
    },
    "kernelspec": {
      "display_name": "Python 3",
      "language": "python",
      "name": "python3"
    },
    "language_info": {
      "codemirror_mode": {
        "name": "ipython",
        "version": 3
      },
      "file_extension": ".py",
      "mimetype": "text/x-python",
      "name": "python",
      "nbconvert_exporter": "python",
      "pygments_lexer": "ipython3",
      "version": "3.9.8"
    }
  },
  "nbformat": 4,
  "nbformat_minor": 5
}